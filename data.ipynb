{
 "cells": [
  {
   "cell_type": "markdown",
   "metadata": {},
   "source": [
    "### Step 1: Data Preprocessing\n",
    "\n",
    "In the fisrt step we import the required packages. Then we load the dataset in csv format and clean and prepare it for the analysis:\n",
    "\n",
    "1. **Handle Missing Values**: We drop rows with any missing values to ensure our analysis is based on complete data.\n",
    "2. **Convert Date Column**: The 'Date' column is converted to a datetime format to facilitate time-based analysis.\n",
    "3. **Feature Engineering**: We extract the year and month from the 'Date' column to create new features that can be used in our analysis.\n",
    "\n",
    "This step is crucial as it ensures the dataset is clean and the features are in a suitable format for the subsequent analysis."
   ]
  },
  {
   "cell_type": "markdown",
   "metadata": {},
   "source": [
    "# Import packages, load the csv File and display the basic information of the dataset\n",
    "\n",
    "Pandas: For data manipulation and analysis.\n",
    "NumPy: For numerical operations and handling arrays."
   ]
  },
  {
   "cell_type": "code",
   "execution_count": 1,
   "metadata": {},
   "outputs": [
    {
     "name": "stdout",
     "output_type": "stream",
     "text": [
      "<class 'pandas.core.frame.DataFrame'>\n",
      "RangeIndex: 128975 entries, 0 to 128974\n",
      "Data columns (total 24 columns):\n",
      " #   Column              Non-Null Count   Dtype  \n",
      "---  ------              --------------   -----  \n",
      " 0   index               128975 non-null  int64  \n",
      " 1   Order ID            128975 non-null  object \n",
      " 2   Date                128975 non-null  object \n",
      " 3   Status              128975 non-null  object \n",
      " 4   Fulfilment          128975 non-null  object \n",
      " 5   Sales Channel       128975 non-null  object \n",
      " 6   ship-service-level  128975 non-null  object \n",
      " 7   Style               128975 non-null  object \n",
      " 8   SKU                 128975 non-null  object \n",
      " 9   Category            128975 non-null  object \n",
      " 10  Size                128975 non-null  object \n",
      " 11  ASIN                128975 non-null  object \n",
      " 12  Courier Status      122103 non-null  object \n",
      " 13  Qty                 128975 non-null  int64  \n",
      " 14  currency            121180 non-null  object \n",
      " 15  Amount              121180 non-null  float64\n",
      " 16  ship-city           128942 non-null  object \n",
      " 17  ship-state          128942 non-null  object \n",
      " 18  ship-postal-code    128942 non-null  float64\n",
      " 19  ship-country        128942 non-null  object \n",
      " 20  promotion-ids       79822 non-null   object \n",
      " 21  B2B                 128975 non-null  bool   \n",
      " 22  fulfilled-by        39277 non-null   object \n",
      " 23  Unnamed: 22         79925 non-null   object \n",
      "dtypes: bool(1), float64(2), int64(2), object(19)\n",
      "memory usage: 22.8+ MB\n",
      "None\n",
      "   index             Order ID      Date                        Status  \\\n",
      "0      0  405-8078784-5731545  04-30-22                     Cancelled   \n",
      "1      1  171-9198151-1101146  04-30-22  Shipped - Delivered to Buyer   \n",
      "2      2  404-0687676-7273146  04-30-22                       Shipped   \n",
      "3      3  403-9615377-8133951  04-30-22                     Cancelled   \n",
      "4      4  407-1069790-7240320  04-30-22                       Shipped   \n",
      "\n",
      "  Fulfilment Sales Channel  ship-service-level    Style              SKU  \\\n",
      "0   Merchant      Amazon.in           Standard   SET389   SET389-KR-NP-S   \n",
      "1   Merchant      Amazon.in           Standard  JNE3781  JNE3781-KR-XXXL   \n",
      "2     Amazon      Amazon.in          Expedited  JNE3371    JNE3371-KR-XL   \n",
      "3   Merchant      Amazon.in           Standard    J0341       J0341-DR-L   \n",
      "4     Amazon      Amazon.in          Expedited  JNE3671  JNE3671-TU-XXXL   \n",
      "\n",
      "        Category  ... currency  Amount    ship-city   ship-state  \\\n",
      "0            Set  ...      INR  647.62       MUMBAI  MAHARASHTRA   \n",
      "1          kurta  ...      INR  406.00    BENGALURU    KARNATAKA   \n",
      "2          kurta  ...      INR  329.00  NAVI MUMBAI  MAHARASHTRA   \n",
      "3  Western Dress  ...      INR  753.33   PUDUCHERRY   PUDUCHERRY   \n",
      "4            Top  ...      INR  574.00      CHENNAI   TAMIL NADU   \n",
      "\n",
      "  ship-postal-code  ship-country  \\\n",
      "0         400081.0            IN   \n",
      "1         560085.0            IN   \n",
      "2         410210.0            IN   \n",
      "3         605008.0            IN   \n",
      "4         600073.0            IN   \n",
      "\n",
      "                                       promotion-ids    B2B  fulfilled-by  \\\n",
      "0                                                NaN  False     Easy Ship   \n",
      "1  Amazon PLCC Free-Financing Universal Merchant ...  False     Easy Ship   \n",
      "2       IN Core Free Shipping 2015/04/08 23-48-5-108   True           NaN   \n",
      "3                                                NaN  False     Easy Ship   \n",
      "4                                                NaN  False           NaN   \n",
      "\n",
      "  Unnamed: 22  \n",
      "0         NaN  \n",
      "1         NaN  \n",
      "2         NaN  \n",
      "3         NaN  \n",
      "4         NaN  \n",
      "\n",
      "[5 rows x 24 columns]\n"
     ]
    },
    {
     "name": "stderr",
     "output_type": "stream",
     "text": [
      "C:\\Users\\patri\\AppData\\Local\\Temp\\ipykernel_29584\\1584355597.py:7: DtypeWarning: Columns (23) have mixed types. Specify dtype option on import or set low_memory=False.\n",
      "  data = pd.read_csv(file_path)\n"
     ]
    }
   ],
   "source": [
    "# Import packages \n",
    "import pandas as pd\n",
    "import numpy as np\n",
    "\n",
    "# Load the dataset\n",
    "file_path = r'C:\\Users\\patri\\Desktop\\Sandbox\\fh_mtm_data\\fh_mtm_data_projekt_group1\\data_set_amazon_sale_report.csv'\n",
    "data = pd.read_csv(file_path)\n",
    "\n",
    "# Display basic information about the dataset\n",
    "print(data.info())\n",
    "\n",
    "# Display the first lines of the dataset\n",
    "print(data.head())"
   ]
  },
  {
   "cell_type": "markdown",
   "metadata": {},
   "source": [
    " **Handle Missing Values**"
   ]
  },
  {
   "cell_type": "code",
   "execution_count": 2,
   "metadata": {},
   "outputs": [
    {
     "name": "stdout",
     "output_type": "stream",
     "text": [
      "Courier Status       6872\n",
      "currency             7795\n",
      "Amount               7795\n",
      "ship-city              33\n",
      "ship-state             33\n",
      "ship-postal-code       33\n",
      "ship-country           33\n",
      "promotion-ids       49153\n",
      "fulfilled-by        89698\n",
      "Unnamed: 22         49050\n",
      "dtype: int64\n"
     ]
    }
   ],
   "source": [
    "# Identify columns with null values\n",
    "null_columns = data.columns[data.isnull().any()]\n",
    "\n",
    "# Display columns with the count of null values\n",
    "null_counts = data[null_columns].isnull().sum()\n",
    "print(null_counts)"
   ]
  },
  {
   "cell_type": "markdown",
   "metadata": {},
   "source": [
    "Remove columns we dont need and the lines with null values"
   ]
  },
  {
   "cell_type": "code",
   "execution_count": 3,
   "metadata": {},
   "outputs": [
    {
     "name": "stdout",
     "output_type": "stream",
     "text": [
      "<class 'pandas.core.frame.DataFrame'>\n",
      "Index: 116016 entries, 1 to 128974\n",
      "Data columns (total 21 columns):\n",
      " #   Column              Non-Null Count   Dtype  \n",
      "---  ------              --------------   -----  \n",
      " 0   index               116016 non-null  int64  \n",
      " 1   Order ID            116016 non-null  object \n",
      " 2   Date                116016 non-null  object \n",
      " 3   Status              116016 non-null  object \n",
      " 4   Fulfilment          116016 non-null  object \n",
      " 5   Sales Channel       116016 non-null  object \n",
      " 6   ship-service-level  116016 non-null  object \n",
      " 7   Style               116016 non-null  object \n",
      " 8   SKU                 116016 non-null  object \n",
      " 9   Category            116016 non-null  object \n",
      " 10  Size                116016 non-null  object \n",
      " 11  ASIN                116016 non-null  object \n",
      " 12  Courier Status      116016 non-null  object \n",
      " 13  Qty                 116016 non-null  int64  \n",
      " 14  currency            116016 non-null  object \n",
      " 15  Amount              116016 non-null  float64\n",
      " 16  ship-city           116016 non-null  object \n",
      " 17  ship-state          116016 non-null  object \n",
      " 18  ship-postal-code    116016 non-null  float64\n",
      " 19  ship-country        116016 non-null  object \n",
      " 20  B2B                 116016 non-null  bool   \n",
      "dtypes: bool(1), float64(2), int64(2), object(16)\n",
      "memory usage: 18.7+ MB\n",
      "None\n",
      "   index             Order ID      Date                        Status  \\\n",
      "1      1  171-9198151-1101146  04-30-22  Shipped - Delivered to Buyer   \n",
      "2      2  404-0687676-7273146  04-30-22                       Shipped   \n",
      "4      4  407-1069790-7240320  04-30-22                       Shipped   \n",
      "5      5  404-1490984-4578765  04-30-22                       Shipped   \n",
      "6      6  408-5748499-6859555  04-30-22                       Shipped   \n",
      "\n",
      "  Fulfilment Sales Channel  ship-service-level    Style              SKU  \\\n",
      "1   Merchant      Amazon.in           Standard  JNE3781  JNE3781-KR-XXXL   \n",
      "2     Amazon      Amazon.in          Expedited  JNE3371    JNE3371-KR-XL   \n",
      "4     Amazon      Amazon.in          Expedited  JNE3671  JNE3671-TU-XXXL   \n",
      "5     Amazon      Amazon.in          Expedited   SET264  SET264-KR-NP-XL   \n",
      "6     Amazon      Amazon.in          Expedited    J0095      J0095-SET-L   \n",
      "\n",
      "  Category  ...        ASIN Courier Status Qty  currency Amount    ship-city  \\\n",
      "1    kurta  ...  B09K3WFS32        Shipped   1       INR  406.0    BENGALURU   \n",
      "2    kurta  ...  B07WV4JV4D        Shipped   1       INR  329.0  NAVI MUMBAI   \n",
      "4      Top  ...  B098714BZP        Shipped   1       INR  574.0      CHENNAI   \n",
      "5      Set  ...  B08YN7XDSG        Shipped   1       INR  824.0    GHAZIABAD   \n",
      "6      Set  ...  B08CMHNWBN        Shipped   1       INR  653.0   CHANDIGARH   \n",
      "\n",
      "      ship-state ship-postal-code  ship-country    B2B  \n",
      "1      KARNATAKA         560085.0            IN  False  \n",
      "2    MAHARASHTRA         410210.0            IN   True  \n",
      "4     TAMIL NADU         600073.0            IN  False  \n",
      "5  UTTAR PRADESH         201102.0            IN  False  \n",
      "6     CHANDIGARH         160036.0            IN  False  \n",
      "\n",
      "[5 rows x 21 columns]\n"
     ]
    }
   ],
   "source": [
    "# Remove columns with a large number of null values\n",
    "columns_to_remove = ['promotion-ids', 'fulfilled-by', 'Unnamed: 22']\n",
    "data_clean = data.drop(columns=columns_to_remove)\n",
    "\n",
    "# Remove rows with null values in specific columns\n",
    "columns_with_nulls = ['Courier Status', 'currency', 'Amount', 'ship-city', 'ship-state', 'ship-postal-code', 'ship-country']\n",
    "data_clean = data_clean.dropna(subset=columns_with_nulls)\n",
    "\n",
    "# Verify the data cleaning steps\n",
    "print(data_clean.info())\n",
    "print(data_clean.head())\n"
   ]
  },
  {
   "cell_type": "markdown",
   "metadata": {},
   "source": [
    "Remove all columns having only one value"
   ]
  },
  {
   "cell_type": "code",
   "execution_count": 4,
   "metadata": {},
   "outputs": [
    {
     "name": "stdout",
     "output_type": "stream",
     "text": [
      "index                 116016\n",
      "Order ID              108271\n",
      "Date                      91\n",
      "Status                    12\n",
      "Fulfilment                 2\n",
      "Sales Channel              1\n",
      "ship-service-level         2\n",
      "Style                   1371\n",
      "SKU                     7132\n",
      "Category                   9\n",
      "Size                      11\n",
      "ASIN                    7128\n",
      "Courier Status             2\n",
      "Qty                        6\n",
      "currency                   1\n",
      "Amount                   867\n",
      "ship-city               8499\n",
      "ship-state                67\n",
      "ship-postal-code        9142\n",
      "ship-country               1\n",
      "B2B                        2\n",
      "dtype: int64\n"
     ]
    }
   ],
   "source": [
    "# Count the number of different values per column\n",
    "unique_values_per_column = data_clean.nunique()\n",
    "print(unique_values_per_column)"
   ]
  },
  {
   "cell_type": "markdown",
   "metadata": {},
   "source": [
    "Delete all columns having only one value (Sales Channel= Amazon.in; Currency= INR; ship-country= IN)"
   ]
  },
  {
   "cell_type": "code",
   "execution_count": 5,
   "metadata": {},
   "outputs": [
    {
     "name": "stdout",
     "output_type": "stream",
     "text": [
      "index                 116016\n",
      "Order ID              108271\n",
      "Date                      91\n",
      "Status                    12\n",
      "Fulfilment                 2\n",
      "ship-service-level         2\n",
      "Style                   1371\n",
      "SKU                     7132\n",
      "Category                   9\n",
      "Size                      11\n",
      "ASIN                    7128\n",
      "Courier Status             2\n",
      "Qty                        6\n",
      "Amount                   867\n",
      "ship-city               8499\n",
      "ship-state                67\n",
      "ship-postal-code        9142\n",
      "B2B                        2\n",
      "dtype: int64\n",
      "<class 'pandas.core.frame.DataFrame'>\n",
      "Index: 116016 entries, 1 to 128974\n",
      "Data columns (total 18 columns):\n",
      " #   Column              Non-Null Count   Dtype  \n",
      "---  ------              --------------   -----  \n",
      " 0   index               116016 non-null  int64  \n",
      " 1   Order ID            116016 non-null  object \n",
      " 2   Date                116016 non-null  object \n",
      " 3   Status              116016 non-null  object \n",
      " 4   Fulfilment          116016 non-null  object \n",
      " 5   ship-service-level  116016 non-null  object \n",
      " 6   Style               116016 non-null  object \n",
      " 7   SKU                 116016 non-null  object \n",
      " 8   Category            116016 non-null  object \n",
      " 9   Size                116016 non-null  object \n",
      " 10  ASIN                116016 non-null  object \n",
      " 11  Courier Status      116016 non-null  object \n",
      " 12  Qty                 116016 non-null  int64  \n",
      " 13  Amount              116016 non-null  float64\n",
      " 14  ship-city           116016 non-null  object \n",
      " 15  ship-state          116016 non-null  object \n",
      " 16  ship-postal-code    116016 non-null  float64\n",
      " 17  B2B                 116016 non-null  bool   \n",
      "dtypes: bool(1), float64(2), int64(2), object(13)\n",
      "memory usage: 16.0+ MB\n",
      "None\n"
     ]
    }
   ],
   "source": [
    "# Remove columns with only one values\n",
    "columns_to_remove = ['Sales Channel ', 'currency', 'ship-country']\n",
    "data_clean = data_clean.drop(columns=columns_to_remove)\n",
    "\n",
    "# Count the number of different values per column\n",
    "unique_values_per_column = data_clean.nunique()\n",
    "print(unique_values_per_column)\n",
    "\n",
    "# Verify the data cleaning steps\n",
    "print(data_clean.info())\n"
   ]
  },
  {
   "cell_type": "markdown",
   "metadata": {},
   "source": [
    "**Data Cleaning** \n",
    "\n",
    "check the datatypes and in case change them"
   ]
  },
  {
   "cell_type": "code",
   "execution_count": 6,
   "metadata": {},
   "outputs": [
    {
     "name": "stdout",
     "output_type": "stream",
     "text": [
      "index                   int64\n",
      "Order ID               object\n",
      "Date                   object\n",
      "Status                 object\n",
      "Fulfilment             object\n",
      "ship-service-level     object\n",
      "Style                  object\n",
      "SKU                    object\n",
      "Category               object\n",
      "Size                   object\n",
      "ASIN                   object\n",
      "Courier Status         object\n",
      "Qty                     int64\n",
      "Amount                float64\n",
      "ship-city              object\n",
      "ship-state             object\n",
      "ship-postal-code      float64\n",
      "B2B                      bool\n",
      "dtype: object\n"
     ]
    }
   ],
   "source": [
    "# Get the data types of all columns in the cleaned dataset\n",
    "column_data_types = data_clean.dtypes\n",
    "print(column_data_types)"
   ]
  },
  {
   "cell_type": "code",
   "execution_count": 7,
   "metadata": {},
   "outputs": [
    {
     "name": "stdout",
     "output_type": "stream",
     "text": [
      "index                          int64\n",
      "Order ID                      object\n",
      "Date                  datetime64[ns]\n",
      "Status                      category\n",
      "Fulfilment                  category\n",
      "ship-service-level          category\n",
      "Style                         object\n",
      "SKU                           object\n",
      "Category                    category\n",
      "Size                        category\n",
      "ASIN                          object\n",
      "Courier Status              category\n",
      "Qty                            int64\n",
      "Amount                       float64\n",
      "ship-city                     object\n",
      "ship-state                    object\n",
      "ship-postal-code              object\n",
      "B2B                             bool\n",
      "dtype: object\n"
     ]
    }
   ],
   "source": [
    "# Convert the date an order into date format\n",
    "data_clean['Date'] = pd.to_datetime(data_clean['Date'], format='%m-%d-%y')\n",
    "# Change the status of an order into category as there are fixed values\n",
    "data_clean['Status'] = data_clean['Status'].astype('category')\n",
    "# Change the Fulfilment of an order into category after is only distribution via Merchant or Amazon possible\n",
    "data_clean['Fulfilment'] = data_clean['Fulfilment'].astype('category')\n",
    "# Change the Fulfilment of an order into category as there is only Standard or Expedited\n",
    "data_clean['ship-service-level'] = data_clean['ship-service-level'].astype('category')\n",
    "# Change the Category of an order into category as there are fixed types of goods\n",
    "data_clean['Category'] = data_clean['Category'].astype('category')\n",
    "# Change the Size of an order into category as there are fixed clothing sizes for the goods\n",
    "data_clean['Size'] = data_clean['Size'].astype('category')\n",
    "# Change the Courier Status of an order into category as there is only Shipped, Unshipped or Canceled possible\n",
    "data_clean['Courier Status'] = data_clean['Courier Status'].astype('category')\n",
    "# Change the ship-postal-code of an order into object as the values are postal codes\n",
    "data_clean['ship-postal-code'] = data_clean['ship-postal-code'].astype('object') \n",
    "# Change the B2B information into bool as the values are either false or true\n",
    "data_clean['B2B'] = data_clean['B2B'].astype('bool')\n",
    "\n",
    "# Verify the updated data types\n",
    "print(data_clean.dtypes)\n"
   ]
  },
  {
   "cell_type": "markdown",
   "metadata": {},
   "source": [
    "**Feature Engineering** \n",
    "\n",
    "Create new features if necessary, such as extracting month or year from the Date column."
   ]
  },
  {
   "cell_type": "markdown",
   "metadata": {},
   "source": [
    "- Day of the Week and Sepeation of Year & Month\n",
    "    Extract the day of the week from the Date column to see if there are patterns related to specific days (e.g., higher sales on weekends)."
   ]
  },
  {
   "cell_type": "code",
   "execution_count": 8,
   "metadata": {},
   "outputs": [
    {
     "name": "stdout",
     "output_type": "stream",
     "text": [
      "<class 'pandas.core.frame.DataFrame'>\n",
      "Index: 116016 entries, 1 to 128974\n",
      "Data columns (total 21 columns):\n",
      " #   Column              Non-Null Count   Dtype         \n",
      "---  ------              --------------   -----         \n",
      " 0   index               116016 non-null  int64         \n",
      " 1   Order ID            116016 non-null  object        \n",
      " 2   Date                116016 non-null  datetime64[ns]\n",
      " 3   Status              116016 non-null  category      \n",
      " 4   Fulfilment          116016 non-null  category      \n",
      " 5   ship-service-level  116016 non-null  category      \n",
      " 6   Style               116016 non-null  object        \n",
      " 7   SKU                 116016 non-null  object        \n",
      " 8   Category            116016 non-null  category      \n",
      " 9   Size                116016 non-null  category      \n",
      " 10  ASIN                116016 non-null  object        \n",
      " 11  Courier Status      116016 non-null  category      \n",
      " 12  Qty                 116016 non-null  int64         \n",
      " 13  Amount              116016 non-null  float64       \n",
      " 14  ship-city           116016 non-null  object        \n",
      " 15  ship-state          116016 non-null  object        \n",
      " 16  ship-postal-code    116016 non-null  object        \n",
      " 17  B2B                 116016 non-null  bool          \n",
      " 18  Year                116016 non-null  int32         \n",
      " 19  Month               116016 non-null  int32         \n",
      " 20  DayOfWeek           116016 non-null  int32         \n",
      "dtypes: bool(1), category(6), datetime64[ns](1), float64(1), int32(3), int64(2), object(7)\n",
      "memory usage: 12.7+ MB\n",
      "None\n",
      "   index             Order ID       Date                        Status  \\\n",
      "1      1  171-9198151-1101146 2022-04-30  Shipped - Delivered to Buyer   \n",
      "2      2  404-0687676-7273146 2022-04-30                       Shipped   \n",
      "4      4  407-1069790-7240320 2022-04-30                       Shipped   \n",
      "5      5  404-1490984-4578765 2022-04-30                       Shipped   \n",
      "6      6  408-5748499-6859555 2022-04-30                       Shipped   \n",
      "\n",
      "  Fulfilment ship-service-level    Style              SKU Category Size  ...  \\\n",
      "1   Merchant           Standard  JNE3781  JNE3781-KR-XXXL    kurta  3XL  ...   \n",
      "2     Amazon          Expedited  JNE3371    JNE3371-KR-XL    kurta   XL  ...   \n",
      "4     Amazon          Expedited  JNE3671  JNE3671-TU-XXXL      Top  3XL  ...   \n",
      "5     Amazon          Expedited   SET264  SET264-KR-NP-XL      Set   XL  ...   \n",
      "6     Amazon          Expedited    J0095      J0095-SET-L      Set    L  ...   \n",
      "\n",
      "  Courier Status Qty  Amount    ship-city     ship-state ship-postal-code  \\\n",
      "1        Shipped   1   406.0    BENGALURU      KARNATAKA         560085.0   \n",
      "2        Shipped   1   329.0  NAVI MUMBAI    MAHARASHTRA         410210.0   \n",
      "4        Shipped   1   574.0      CHENNAI     TAMIL NADU         600073.0   \n",
      "5        Shipped   1   824.0    GHAZIABAD  UTTAR PRADESH         201102.0   \n",
      "6        Shipped   1   653.0   CHANDIGARH     CHANDIGARH         160036.0   \n",
      "\n",
      "     B2B  Year  Month  DayOfWeek  \n",
      "1  False  2022      4          5  \n",
      "2   True  2022      4          5  \n",
      "4  False  2022      4          5  \n",
      "5  False  2022      4          5  \n",
      "6  False  2022      4          5  \n",
      "\n",
      "[5 rows x 21 columns]\n"
     ]
    }
   ],
   "source": [
    "# Feature Engineering: Extract month and year from 'Date'\n",
    "data_clean['Year'] = data_clean['Date'].dt.year\n",
    "data_clean['Month'] = data_clean['Date'].dt.month\n",
    "data_clean['DayOfWeek'] = data_clean['Date'].dt.dayofweek\n",
    "\n",
    "\n",
    "# Display cleaned data information\n",
    "print(data_clean.info())\n",
    "print(data_clean.head())"
   ]
  },
  {
   "cell_type": "markdown",
   "metadata": {},
   "source": [
    "- Day of the Month\n",
    "    Extract the day of the month to check for patterns related to specific days (e.g., end-of-month sales spikes)."
   ]
  },
  {
   "cell_type": "code",
   "execution_count": 9,
   "metadata": {},
   "outputs": [],
   "source": [
    "data_clean['DayOfMonth'] = data_clean['Date'].dt.day"
   ]
  },
  {
   "cell_type": "markdown",
   "metadata": {},
   "source": [
    "- Is Weekend\n",
    "    Create a binary feature indicating whether a date falls on a weekend in order to see if there are patterns on weekends."
   ]
  },
  {
   "cell_type": "code",
   "execution_count": 10,
   "metadata": {},
   "outputs": [],
   "source": [
    "data_clean['IsWeekend'] = data_clean['DayOfWeek'].isin([5, 6])"
   ]
  },
  {
   "cell_type": "markdown",
   "metadata": {},
   "source": [
    "- Region\n",
    "    Segment the values in 'ship-state' into six regions of india "
   ]
  },
  {
   "cell_type": "code",
   "execution_count": 20,
   "metadata": {},
   "outputs": [
    {
     "name": "stdout",
     "output_type": "stream",
     "text": [
      "1        KARNATAKA\n",
      "2      MAHARASHTRA\n",
      "4       TAMIL NADU\n",
      "5    UTTAR PRADESH\n",
      "6       CHANDIGARH\n",
      "Name: ship-state, dtype: object\n"
     ]
    }
   ],
   "source": [
    "# Change values into caps lock to fit to the maping rules\n",
    "data_clean['ship-state'] = data_clean['ship-state'].str.upper()\n",
    "print(data_clean['ship-state'].head())"
   ]
  },
  {
   "cell_type": "code",
   "execution_count": 40,
   "metadata": {},
   "outputs": [
    {
     "name": "stdout",
     "output_type": "stream",
     "text": [
      "   index             Order ID       Date                        Status  \\\n",
      "1      1  171-9198151-1101146 2022-04-30  Shipped - Delivered to Buyer   \n",
      "2      2  404-0687676-7273146 2022-04-30                       Shipped   \n",
      "4      4  407-1069790-7240320 2022-04-30                       Shipped   \n",
      "5      5  404-1490984-4578765 2022-04-30                       Shipped   \n",
      "6      6  408-5748499-6859555 2022-04-30                       Shipped   \n",
      "\n",
      "  Fulfilment ship-service-level    Style              SKU Category Size  ...  \\\n",
      "1   Merchant           Standard  JNE3781  JNE3781-KR-XXXL    kurta  3XL  ...   \n",
      "2     Amazon          Expedited  JNE3371    JNE3371-KR-XL    kurta   XL  ...   \n",
      "4     Amazon          Expedited  JNE3671  JNE3671-TU-XXXL      Top  3XL  ...   \n",
      "5     Amazon          Expedited   SET264  SET264-KR-NP-XL      Set   XL  ...   \n",
      "6     Amazon          Expedited    J0095      J0095-SET-L      Set    L  ...   \n",
      "\n",
      "  ship-postal-code    B2B  Year  Month DayOfWeek DayOfMonth IsWeekend  Region  \\\n",
      "1         560085.0  False  2022      4         5         30      True   South   \n",
      "2         410210.0   True  2022      4         5         30      True    West   \n",
      "4         600073.0  False  2022      4         5         30      True   South   \n",
      "5         201102.0  False  2022      4         5         30      True   North   \n",
      "6         160036.0  False  2022      4         5         30      True   North   \n",
      "\n",
      "   OrderSize  PricePerItem  \n",
      "1      406.0         406.0  \n",
      "2      329.0         329.0  \n",
      "4      574.0         574.0  \n",
      "5      824.0         824.0  \n",
      "6      653.0         653.0  \n",
      "\n",
      "[5 rows x 26 columns]\n"
     ]
    }
   ],
   "source": [
    "# List of states by region\n",
    "north_states = ['JAMMU & KASHMIR', 'HIMACHAL PRADESH', 'Punjab', 'UTTARAKHAND', 'HARYANA', 'Delhi', 'UTTAR PRADESH', 'Chandigarh', 'LADAKH', 'New Delhi', 'PB', 'Punjab/Mohali/Zirakpur']\n",
    "south_states = ['ANDHRA PRADESH', 'KARNATAKA', 'KERALA', 'TAMIL NADU', 'TELANGANA', 'Pondicherry', 'Puducherry', 'LAKSHADWEEP']\n",
    "east_states = ['Bihar', 'JHARKHAND', 'Odisha', 'WEST BENGAL', 'ANDAMAN & NICOBAR ', 'Orissa']\n",
    "west_states = ['Goa', 'Gujarat', 'MAHARASHTRA', 'DADRA AND NAGAR', 'RAJSHTHAN', 'RJ', 'RAJSTHAN', 'RAJASTHAN']\n",
    "central_states = ['MADHYA PRADESH', 'CHHATTISGARH']\n",
    "northeast_states = ['ARUNACHAL PRADESH', 'ASSAM', 'Manipur', 'MEGHALAYA', 'Mizoram', 'Nagaland', 'Sikkim', 'TRIPURA', 'AR', 'NL']\n",
    "\n",
    "# Convert all state names to uppercase\n",
    "north_states = [state.upper() for state in north_states]\n",
    "south_states = [state.upper() for state in south_states]\n",
    "east_states = [state.upper() for state in east_states]\n",
    "west_states = [state.upper() for state in west_states]\n",
    "central_states = [state.upper() for state in central_states]\n",
    "northeast_states = [state.upper() for state in northeast_states]\n",
    "\n",
    "\n",
    "# Function to get region\n",
    "def get_region(state):\n",
    "    if state in north_states:\n",
    "        return 'North'\n",
    "    elif state in south_states:\n",
    "        return 'South'\n",
    "    elif state in east_states:\n",
    "        return 'East'\n",
    "    elif state in west_states:\n",
    "        return 'West'\n",
    "    elif state in central_states:\n",
    "        return 'Central'\n",
    "    elif state in northeast_states:\n",
    "        return 'Northeast'\n",
    "    else:\n",
    "        return 'Other'\n",
    "\n",
    "# Applying the function to create a new column 'Region'\n",
    "data_clean['Region'] = data_clean['ship-state'].apply(get_region)\n",
    "print(data_clean.head())\n"
   ]
  },
  {
   "cell_type": "code",
   "execution_count": 41,
   "metadata": {},
   "outputs": [
    {
     "name": "stdout",
     "output_type": "stream",
     "text": [
      "[]\n"
     ]
    }
   ],
   "source": [
    "other_states = data_clean[data_clean['Region'] == 'Other']\n",
    "\n",
    "# Print all state names where region is \"Other\"\n",
    "print(other_states['ship-state'].tolist())"
   ]
  },
  {
   "cell_type": "markdown",
   "metadata": {},
   "source": [
    "- Order Size\n",
    "    Calculate the total order size by multiplying Qty with the Amount (if each row represents a line item, otherwise directly use Amount)."
   ]
  },
  {
   "cell_type": "code",
   "execution_count": 12,
   "metadata": {},
   "outputs": [],
   "source": [
    "data_clean['OrderSize'] = data_clean['Qty'] * data_clean['Amount']"
   ]
  },
  {
   "cell_type": "markdown",
   "metadata": {},
   "source": [
    "- Price per Item\n",
    "    Calculate the price per item if Qty and Amount represent total quantity and total amount.\n"
   ]
  },
  {
   "cell_type": "code",
   "execution_count": 13,
   "metadata": {},
   "outputs": [],
   "source": [
    "data_clean['PricePerItem'] = data_clean['Amount'] / data_clean['Qty']"
   ]
  },
  {
   "cell_type": "code",
   "execution_count": 30,
   "metadata": {},
   "outputs": [],
   "source": [
    "# Save the cleaned dataset to a CSV file\n",
    "data_clean.to_csv('clean_data_set_amazon_sale_report.csv', index=False)"
   ]
  }
 ],
 "metadata": {
  "kernelspec": {
   "display_name": "Python 3",
   "language": "python",
   "name": "python3"
  },
  "language_info": {
   "codemirror_mode": {
    "name": "ipython",
    "version": 3
   },
   "file_extension": ".py",
   "mimetype": "text/x-python",
   "name": "python",
   "nbconvert_exporter": "python",
   "pygments_lexer": "ipython3",
   "version": "3.11.9"
  }
 },
 "nbformat": 4,
 "nbformat_minor": 2
}
